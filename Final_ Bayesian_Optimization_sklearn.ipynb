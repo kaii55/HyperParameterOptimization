{
 "cells": [
  {
   "cell_type": "code",
   "execution_count": 1,
   "metadata": {},
   "outputs": [],
   "source": [
    "import pandas as pd\n",
    "import numpy as np\n",
    "import matplotlib.pyplot as plt\n",
    "\n",
    "from sklearn.model_selection import train_test_split\n",
    "from imblearn.over_sampling import SMOTE \n",
    "\n",
    "from functools import partial\n",
    "\n",
    "\n",
    "\n",
    "\n",
    "df = pd.read_csv('data.csv')\n",
    "list = ['Unnamed: 32','id']\n",
    "df.drop(list,axis = 1, inplace = True)\n",
    "\n",
    "#Encoding categorical data values\n",
    "from sklearn.preprocessing import LabelEncoder\n",
    "labelencoder = LabelEncoder()\n",
    "df['diagnosis'] = labelencoder.fit_transform(df['diagnosis'])\n",
    "\n",
    "\n",
    "from sklearn.preprocessing import StandardScaler\n",
    "ss = StandardScaler()\n",
    "df['radius_mean'] = ss.fit_transform(df['radius_mean'].values.reshape(-1,1))\n",
    "df['texture_mean'] = ss.fit_transform(df['texture_mean'].values.reshape(-1,1))\n",
    "df['perimeter_mean'] = ss.fit_transform(df['perimeter_mean'].values.reshape(-1,1))\n",
    "df['area_mean'] = ss.fit_transform(df['area_mean'].values.reshape(-1,1))\n",
    "df['perimeter_se'] = ss.fit_transform(df['perimeter_se'].values.reshape(-1,1))\n",
    "df['area_se'] = ss.fit_transform(df['area_se'].values.reshape(-1,1))\n",
    "df['radius_worst'] = ss.fit_transform(df['radius_worst'].values.reshape(-1,1))\n",
    "df['texture_worst'] = ss.fit_transform(df['texture_worst'].values.reshape(-1,1))\n",
    "df['perimeter_worst'] = ss.fit_transform(df['perimeter_worst'].values.reshape(-1,1))\n",
    "df['area_worst'] = ss.fit_transform(df['area_worst'].values.reshape(-1,1))\n",
    "\n",
    "df_1 = pd.DataFrame(df['diagnosis'])\n",
    "df.drop(['diagnosis'], axis =1, inplace = True)\n",
    "\n",
    "from sklearn.decomposition import PCA\n",
    "pca = PCA()\n",
    "df_pca = pd.DataFrame(pca.fit_transform(df), columns=df.columns)\n",
    "\n",
    "\n",
    "X = df_pca\n",
    "Y = df_1['diagnosis']\n",
    "\n",
    "\n",
    "\n",
    "\n",
    "from sklearn.model_selection import train_test_split\n",
    "X_train, X_test, Y_train, Y_test = train_test_split(X, Y, test_size = 0.20, \n",
    "                                                    stratify = Y)\n",
    "\n",
    "sm = SMOTE(random_state=42, kind = 'borderline1')\n",
    "\n",
    "X_resampled, Y_resampled = sm.fit_resample(X_train, Y_train)\n",
    "\n",
    "\n"
   ]
  },
  {
   "cell_type": "code",
   "execution_count": 2,
   "metadata": {},
   "outputs": [
    {
     "name": "stdout",
     "output_type": "stream",
     "text": [
      "|   iter    |  target   |     C     |\n",
      "-------------------------------------\n",
      "| \u001b[0m 1       \u001b[0m | \u001b[0m 0.9825  \u001b[0m | \u001b[0m 1.209   \u001b[0m |\n",
      "| \u001b[0m 2       \u001b[0m | \u001b[0m 0.9825  \u001b[0m | \u001b[0m 1.36    \u001b[0m |\n",
      "| \u001b[0m 3       \u001b[0m | \u001b[0m 0.9825  \u001b[0m | \u001b[0m 1.0     \u001b[0m |\n",
      "| \u001b[0m 4       \u001b[0m | \u001b[0m 0.9825  \u001b[0m | \u001b[0m 1.151   \u001b[0m |\n",
      "| \u001b[0m 5       \u001b[0m | \u001b[0m 0.9825  \u001b[0m | \u001b[0m 1.073   \u001b[0m |\n",
      "| \u001b[0m 6       \u001b[0m | \u001b[0m 0.9825  \u001b[0m | \u001b[0m 1.384   \u001b[0m |\n",
      "| \u001b[0m 7       \u001b[0m | \u001b[0m 0.9825  \u001b[0m | \u001b[0m 1.161   \u001b[0m |\n",
      "| \u001b[0m 8       \u001b[0m | \u001b[0m 0.9825  \u001b[0m | \u001b[0m 1.008   \u001b[0m |\n",
      "| \u001b[0m 9       \u001b[0m | \u001b[0m 0.9825  \u001b[0m | \u001b[0m 1.262   \u001b[0m |\n",
      "| \u001b[0m 10      \u001b[0m | \u001b[0m 0.9825  \u001b[0m | \u001b[0m 1.457   \u001b[0m |\n",
      "| \u001b[0m 11      \u001b[0m | \u001b[0m 0.9825  \u001b[0m | \u001b[0m 1.18    \u001b[0m |\n",
      "| \u001b[0m 12      \u001b[0m | \u001b[0m 0.9825  \u001b[0m | \u001b[0m 1.03    \u001b[0m |\n",
      "| \u001b[0m 13      \u001b[0m | \u001b[0m 0.9825  \u001b[0m | \u001b[0m 1.327   \u001b[0m |\n",
      "| \u001b[0m 14      \u001b[0m | \u001b[0m 0.9825  \u001b[0m | \u001b[0m 1.045   \u001b[0m |\n",
      "| \u001b[0m 15      \u001b[0m | \u001b[0m 0.9825  \u001b[0m | \u001b[0m 1.019   \u001b[0m |\n",
      "=====================================\n",
      "Iteration 0: \n",
      "\t{'target': 0.9824561403508771, 'params': {'C': 1.208511002351287}}\n",
      "Iteration 1: \n",
      "\t{'target': 0.9824561403508771, 'params': {'C': 1.360162246721079}}\n",
      "Iteration 2: \n",
      "\t{'target': 0.9824561403508771, 'params': {'C': 1.0000571874086726}}\n",
      "Iteration 3: \n",
      "\t{'target': 0.9824561403508771, 'params': {'C': 1.1511662863159198}}\n",
      "Iteration 4: \n",
      "\t{'target': 0.9824561403508771, 'params': {'C': 1.0733779454085566}}\n",
      "Iteration 5: \n",
      "\t{'target': 0.9824561403508771, 'params': {'C': 1.3844921422615546}}\n",
      "Iteration 6: \n",
      "\t{'target': 0.9824561403508771, 'params': {'C': 1.16077689895289}}\n",
      "Iteration 7: \n",
      "\t{'target': 0.9824561403508771, 'params': {'C': 1.0077692020494626}}\n",
      "Iteration 8: \n",
      "\t{'target': 0.9824561403508771, 'params': {'C': 1.2618892944021356}}\n",
      "Iteration 9: \n",
      "\t{'target': 0.9824561403508771, 'params': {'C': 1.4568271085450821}}\n",
      "Iteration 10: \n",
      "\t{'target': 0.9824561403508771, 'params': {'C': 1.180090432469041}}\n",
      "Iteration 11: \n",
      "\t{'target': 0.9824561403508771, 'params': {'C': 1.0300801386330742}}\n",
      "Iteration 12: \n",
      "\t{'target': 0.9824561403508771, 'params': {'C': 1.3267173780864416}}\n",
      "Iteration 13: \n",
      "\t{'target': 0.9824561403508771, 'params': {'C': 1.0454460839242667}}\n",
      "Iteration 14: \n",
      "\t{'target': 0.9824561403508771, 'params': {'C': 1.018982080356706}}\n",
      "{'target': 0.9824561403508771, 'params': {'C': 1.208511002351287}}\n"
     ]
    }
   ],
   "source": [
    "from sklearn.linear_model import LogisticRegression\n",
    "from bayes_opt import BayesianOptimization\n",
    "\n",
    "def get_model(C):\n",
    "    model = LogisticRegression(class_weight=\"balanced\", solver=\"liblinear\", random_state=42, C=C)\n",
    "\n",
    "    # Train the model with the train dataset.\n",
    "    model.fit(X_resampled, Y_resampled)\n",
    "\n",
    "    # Evaluate the model with the eval dataset.\n",
    "    score = model.score(X_test,Y_test)\n",
    "    \n",
    "    # Return the accuracy.\n",
    "\n",
    "    return score\n",
    "\n",
    "verbose = 1\n",
    "fit_with_partial = partial(get_model)\n",
    "\n",
    "# Bounded region of parameter space\n",
    "pbounds = {'C': (1, 1.5)}\n",
    "\n",
    "optimizer = BayesianOptimization(\n",
    "    f=fit_with_partial,\n",
    "    pbounds=pbounds,\n",
    "    verbose=2,  # verbose = 1 prints only when a maximum is observed, verbose = 0 is silent\n",
    "    random_state=1,\n",
    ")\n",
    "\n",
    "optimizer.maximize(n_iter=10)\n",
    "\n",
    "\n",
    "for i, res in enumerate(optimizer.res):\n",
    "    print(\"Iteration {}: \\n\\t{}\".format(i, res))\n",
    "\n",
    "print(optimizer.max)\n",
    "\n"
   ]
  },
  {
   "cell_type": "code",
   "execution_count": 3,
   "metadata": {},
   "outputs": [],
   "source": [
    "lr_model = LogisticRegression(class_weight=\"balanced\", solver=\"liblinear\", random_state=42, C=1.20)"
   ]
  },
  {
   "cell_type": "code",
   "execution_count": 5,
   "metadata": {},
   "outputs": [
    {
     "data": {
      "text/plain": [
       "0.9824561403508771"
      ]
     },
     "execution_count": 5,
     "metadata": {},
     "output_type": "execute_result"
    }
   ],
   "source": [
    "from sklearn.metrics import accuracy_score, classification_report\n",
    "lr_model.fit(X_resampled, Y_resampled)\n",
    "y_pred = lr_model.predict(X_test)\n",
    "accuracy_score(Y_test, y_pred)"
   ]
  },
  {
   "cell_type": "code",
   "execution_count": 6,
   "metadata": {},
   "outputs": [
    {
     "name": "stdout",
     "output_type": "stream",
     "text": [
      "              precision    recall  f1-score   support\n",
      "\n",
      "           0       1.00      0.97      0.99        72\n",
      "           1       0.95      1.00      0.98        42\n",
      "\n",
      "   micro avg       0.98      0.98      0.98       114\n",
      "   macro avg       0.98      0.99      0.98       114\n",
      "weighted avg       0.98      0.98      0.98       114\n",
      "\n"
     ]
    }
   ],
   "source": [
    "print(classification_report(Y_test, y_pred))"
   ]
  },
  {
   "cell_type": "code",
   "execution_count": 8,
   "metadata": {},
   "outputs": [
    {
     "name": "stdout",
     "output_type": "stream",
     "text": [
      "[[70  2]\n",
      " [ 0 42]]\n"
     ]
    }
   ],
   "source": [
    "from sklearn.metrics import confusion_matrix\n",
    "print(confusion_matrix(Y_test, y_pred))"
   ]
  },
  {
   "cell_type": "code",
   "execution_count": 9,
   "metadata": {},
   "outputs": [
    {
     "data": {
      "text/plain": [
       "0.9824561403508771"
      ]
     },
     "execution_count": 9,
     "metadata": {},
     "output_type": "execute_result"
    }
   ],
   "source": [
    "lr_model.score(X_test, Y_test)"
   ]
  },
  {
   "cell_type": "code",
   "execution_count": 10,
   "metadata": {},
   "outputs": [
    {
     "data": {
      "text/plain": [
       "0.9649122807017544"
      ]
     },
     "execution_count": 10,
     "metadata": {},
     "output_type": "execute_result"
    }
   ],
   "source": [
    "lr_model.score(X_resampled, Y_resampled)"
   ]
  },
  {
   "cell_type": "code",
   "execution_count": 11,
   "metadata": {},
   "outputs": [
    {
     "name": "stdout",
     "output_type": "stream",
     "text": [
      "|   iter    |  target   | max_depth | min_sa... |\n",
      "-------------------------------------------------\n",
      "| \u001b[0m 1       \u001b[0m | \u001b[0m 0.9123  \u001b[0m | \u001b[0m 4.668   \u001b[0m | \u001b[0m 0.6763  \u001b[0m |\n",
      "| \u001b[0m 2       \u001b[0m | \u001b[0m 0.886   \u001b[0m | \u001b[0m 3.0     \u001b[0m | \u001b[0m 0.3419  \u001b[0m |\n",
      "| \u001b[95m 3       \u001b[0m | \u001b[95m 0.9474  \u001b[0m | \u001b[95m 3.587   \u001b[0m | \u001b[95m 0.1739  \u001b[0m |\n",
      "| \u001b[0m 4       \u001b[0m | \u001b[0m 0.886   \u001b[0m | \u001b[0m 3.745   \u001b[0m | \u001b[0m 0.3764  \u001b[0m |\n",
      "| \u001b[0m 5       \u001b[0m | \u001b[0m 0.9123  \u001b[0m | \u001b[0m 4.587   \u001b[0m | \u001b[0m 0.5311  \u001b[0m |\n",
      "| \u001b[0m 6       \u001b[0m | \u001b[0m 0.9298  \u001b[0m | \u001b[0m 7.0     \u001b[0m | \u001b[0m 0.1     \u001b[0m |\n",
      "| \u001b[0m 7       \u001b[0m | \u001b[0m 0.9123  \u001b[0m | \u001b[0m 7.0     \u001b[0m | \u001b[0m 0.9     \u001b[0m |\n",
      "| \u001b[0m 8       \u001b[0m | \u001b[0m 0.9298  \u001b[0m | \u001b[0m 5.86    \u001b[0m | \u001b[0m 0.1     \u001b[0m |\n",
      "| \u001b[0m 9       \u001b[0m | \u001b[0m 0.9123  \u001b[0m | \u001b[0m 5.864   \u001b[0m | \u001b[0m 0.9     \u001b[0m |\n",
      "| \u001b[0m 10      \u001b[0m | \u001b[0m 0.9474  \u001b[0m | \u001b[0m 3.0     \u001b[0m | \u001b[0m 0.1     \u001b[0m |\n",
      "| \u001b[0m 11      \u001b[0m | \u001b[0m 0.9298  \u001b[0m | \u001b[0m 4.998   \u001b[0m | \u001b[0m 0.1     \u001b[0m |\n",
      "| \u001b[0m 12      \u001b[0m | \u001b[0m 0.9211  \u001b[0m | \u001b[0m 4.128   \u001b[0m | \u001b[0m 0.1     \u001b[0m |\n",
      "| \u001b[0m 13      \u001b[0m | \u001b[0m 0.886   \u001b[0m | \u001b[0m 6.541   \u001b[0m | \u001b[0m 0.444   \u001b[0m |\n",
      "| \u001b[0m 14      \u001b[0m | \u001b[0m 0.9123  \u001b[0m | \u001b[0m 5.36    \u001b[0m | \u001b[0m 0.5398  \u001b[0m |\n",
      "| \u001b[0m 15      \u001b[0m | \u001b[0m 0.9474  \u001b[0m | \u001b[0m 3.321   \u001b[0m | \u001b[0m 0.1     \u001b[0m |\n",
      "=================================================\n",
      "Iteration 0: \n",
      "\t{'target': 0.9122807017543859, 'params': {'max_depth': 4.6680880188102964, 'min_samples_split': 0.6762595947537264}}\n",
      "Iteration 1: \n",
      "\t{'target': 0.8859649122807017, 'params': {'max_depth': 3.0004574992693795, 'min_samples_split': 0.3418660581054718}}\n",
      "Iteration 2: \n",
      "\t{'target': 0.9473684210526315, 'params': {'max_depth': 3.587023563268452, 'min_samples_split': 0.17387087581503824}}\n",
      "Iteration 3: \n",
      "\t{'target': 0.8859649122807017, 'params': {'max_depth': 3.7450408455106836, 'min_samples_split': 0.3764485816344382}}\n",
      "Iteration 4: \n",
      "\t{'target': 0.9122807017543859, 'params': {'max_depth': 4.58706989692268, 'min_samples_split': 0.5310533872026856}}\n",
      "Iteration 5: \n",
      "\t{'target': 0.9298245614035088, 'params': {'max_depth': 7.0, 'min_samples_split': 0.1}}\n",
      "Iteration 6: \n",
      "\t{'target': 0.9122807017543859, 'params': {'max_depth': 7.0, 'min_samples_split': 0.9}}\n",
      "Iteration 7: \n",
      "\t{'target': 0.9298245614035088, 'params': {'max_depth': 5.859845434382299, 'min_samples_split': 0.1}}\n",
      "Iteration 8: \n",
      "\t{'target': 0.9122807017543859, 'params': {'max_depth': 5.864206567245509, 'min_samples_split': 0.9}}\n",
      "Iteration 9: \n",
      "\t{'target': 0.9473684210526315, 'params': {'max_depth': 3.0, 'min_samples_split': 0.1}}\n",
      "Iteration 10: \n",
      "\t{'target': 0.9298245614035088, 'params': {'max_depth': 4.997647413295662, 'min_samples_split': 0.1}}\n",
      "Iteration 11: \n",
      "\t{'target': 0.9210526315789473, 'params': {'max_depth': 4.128098908563384, 'min_samples_split': 0.1}}\n",
      "Iteration 12: \n",
      "\t{'target': 0.8859649122807017, 'params': {'max_depth': 6.541221429859335, 'min_samples_split': 0.444021601299783}}\n",
      "Iteration 13: \n",
      "\t{'target': 0.9122807017543859, 'params': {'max_depth': 5.359664669337586, 'min_samples_split': 0.5397557280280532}}\n",
      "Iteration 14: \n",
      "\t{'target': 0.9473684210526315, 'params': {'max_depth': 3.321455367289535, 'min_samples_split': 0.1}}\n",
      "{'target': 0.9473684210526315, 'params': {'max_depth': 3.587023563268452, 'min_samples_split': 0.17387087581503824}}\n"
     ]
    }
   ],
   "source": [
    "from sklearn.tree import DecisionTreeClassifier\n",
    "\n",
    "def get_model1(max_depth,min_samples_split):\n",
    "    model = DecisionTreeClassifier(class_weight=\"balanced\", max_depth = max_depth,\n",
    "                                   min_samples_split = min_samples_split)\n",
    "\n",
    "    # Train the model with the train dataset.\n",
    "    model.fit(X_resampled, Y_resampled)\n",
    "\n",
    "    # Evaluate the model with the eval dataset.\n",
    "    score = model.score(X_test,Y_test)\n",
    "    \n",
    "    # Return the accuracy.\n",
    "\n",
    "    return score\n",
    "\n",
    "verbose = 1\n",
    "fit_with_partial = partial(get_model1)\n",
    "\n",
    "# Bounded region of parameter space\n",
    "pbounds = {\"max_depth\": (3, 7), \"min_samples_split\": (0.1, 0.9)}\n",
    "\n",
    "optimizer1 = BayesianOptimization(\n",
    "    f=fit_with_partial,\n",
    "    pbounds=pbounds,\n",
    "    verbose=2,  # verbose = 1 prints only when a maximum is observed, verbose = 0 is silent\n",
    "    random_state=1,\n",
    ")\n",
    "\n",
    "optimizer1.maximize(n_iter=10)\n",
    "\n",
    "\n",
    "for i, res in enumerate(optimizer1.res):\n",
    "    print(\"Iteration {}: \\n\\t{}\".format(i, res))\n",
    "\n",
    "print(optimizer1.max)\n",
    "\n",
    "\n"
   ]
  },
  {
   "cell_type": "code",
   "execution_count": 13,
   "metadata": {},
   "outputs": [],
   "source": [
    "dt_model = DecisionTreeClassifier(class_weight=\"balanced\", max_depth = 3.5,\n",
    "                                   min_samples_split = 0.17)\n",
    "\n"
   ]
  },
  {
   "cell_type": "code",
   "execution_count": 14,
   "metadata": {},
   "outputs": [
    {
     "data": {
      "text/plain": [
       "0.9473684210526315"
      ]
     },
     "execution_count": 14,
     "metadata": {},
     "output_type": "execute_result"
    }
   ],
   "source": [
    "from sklearn.metrics import accuracy_score, classification_report\n",
    "dt_model.fit(X_resampled, Y_resampled)\n",
    "y_pred = dt_model.predict(X_test)\n",
    "accuracy_score(Y_test, y_pred)"
   ]
  },
  {
   "cell_type": "code",
   "execution_count": 15,
   "metadata": {},
   "outputs": [
    {
     "name": "stdout",
     "output_type": "stream",
     "text": [
      "              precision    recall  f1-score   support\n",
      "\n",
      "           0       0.99      0.93      0.96        72\n",
      "           1       0.89      0.98      0.93        42\n",
      "\n",
      "   micro avg       0.95      0.95      0.95       114\n",
      "   macro avg       0.94      0.95      0.94       114\n",
      "weighted avg       0.95      0.95      0.95       114\n",
      "\n"
     ]
    }
   ],
   "source": [
    "print(classification_report(Y_test, y_pred))"
   ]
  },
  {
   "cell_type": "code",
   "execution_count": 16,
   "metadata": {},
   "outputs": [
    {
     "name": "stdout",
     "output_type": "stream",
     "text": [
      "[[67  5]\n",
      " [ 1 41]]\n"
     ]
    }
   ],
   "source": [
    "print(confusion_matrix(Y_test, y_pred))"
   ]
  },
  {
   "cell_type": "code",
   "execution_count": 17,
   "metadata": {},
   "outputs": [
    {
     "data": {
      "text/plain": [
       "0.9473684210526315"
      ]
     },
     "execution_count": 17,
     "metadata": {},
     "output_type": "execute_result"
    }
   ],
   "source": [
    "dt_model.score(X_test, Y_test)"
   ]
  },
  {
   "cell_type": "code",
   "execution_count": 18,
   "metadata": {},
   "outputs": [
    {
     "data": {
      "text/plain": [
       "0.9491228070175438"
      ]
     },
     "execution_count": 18,
     "metadata": {},
     "output_type": "execute_result"
    }
   ],
   "source": [
    "dt_model.score(X_resampled, Y_resampled)"
   ]
  },
  {
   "cell_type": "code",
   "execution_count": 19,
   "metadata": {},
   "outputs": [
    {
     "name": "stdout",
     "output_type": "stream",
     "text": [
      "|   iter    |  target   | max_depth | min_sa... |\n",
      "-------------------------------------------------\n",
      "| \u001b[0m 1       \u001b[0m | \u001b[0m 0.6316  \u001b[0m | \u001b[0m 12.09   \u001b[0m | \u001b[0m 0.6763  \u001b[0m |\n",
      "| \u001b[95m 2       \u001b[0m | \u001b[95m 0.9561  \u001b[0m | \u001b[95m 10.0    \u001b[0m | \u001b[95m 0.3419  \u001b[0m |\n",
      "| \u001b[0m 3       \u001b[0m | \u001b[0m 0.9386  \u001b[0m | \u001b[0m 10.73   \u001b[0m | \u001b[0m 0.1739  \u001b[0m |\n",
      "| \u001b[0m 4       \u001b[0m | \u001b[0m 0.9211  \u001b[0m | \u001b[0m 10.93   \u001b[0m | \u001b[0m 0.3764  \u001b[0m |\n",
      "| \u001b[0m 5       \u001b[0m | \u001b[0m 0.886   \u001b[0m | \u001b[0m 11.98   \u001b[0m | \u001b[0m 0.5311  \u001b[0m |\n",
      "| \u001b[0m 6       \u001b[0m | \u001b[0m 0.9386  \u001b[0m | \u001b[0m 15.0    \u001b[0m | \u001b[0m 0.1     \u001b[0m |\n",
      "| \u001b[0m 7       \u001b[0m | \u001b[0m 0.9561  \u001b[0m | \u001b[0m 13.49   \u001b[0m | \u001b[0m 0.1     \u001b[0m |\n",
      "| \u001b[0m 8       \u001b[0m | \u001b[0m 0.6316  \u001b[0m | \u001b[0m 15.0    \u001b[0m | \u001b[0m 0.9     \u001b[0m |\n",
      "| \u001b[95m 9       \u001b[0m | \u001b[95m 0.9649  \u001b[0m | \u001b[95m 12.39   \u001b[0m | \u001b[95m 0.1     \u001b[0m |\n",
      "| \u001b[0m 10      \u001b[0m | \u001b[0m 0.9474  \u001b[0m | \u001b[0m 11.56   \u001b[0m | \u001b[0m 0.1     \u001b[0m |\n",
      "| \u001b[0m 11      \u001b[0m | \u001b[0m 0.6316  \u001b[0m | \u001b[0m 10.0    \u001b[0m | \u001b[0m 0.9     \u001b[0m |\n",
      "| \u001b[0m 12      \u001b[0m | \u001b[0m 0.3684  \u001b[0m | \u001b[0m 13.96   \u001b[0m | \u001b[0m 0.9     \u001b[0m |\n",
      "| \u001b[0m 13      \u001b[0m | \u001b[0m 0.9474  \u001b[0m | \u001b[0m 14.27   \u001b[0m | \u001b[0m 0.1     \u001b[0m |\n",
      "| \u001b[0m 14      \u001b[0m | \u001b[0m 0.6316  \u001b[0m | \u001b[0m 11.24   \u001b[0m | \u001b[0m 0.9     \u001b[0m |\n",
      "| \u001b[0m 15      \u001b[0m | \u001b[0m 0.9474  \u001b[0m | \u001b[0m 10.0    \u001b[0m | \u001b[0m 0.1     \u001b[0m |\n",
      "=================================================\n",
      "Iteration 0: \n",
      "\t{'target': 0.631578947368421, 'params': {'max_depth': 12.08511002351287, 'min_samples_split': 0.6762595947537264}}\n",
      "Iteration 1: \n",
      "\t{'target': 0.956140350877193, 'params': {'max_depth': 10.000571874086724, 'min_samples_split': 0.3418660581054718}}\n",
      "Iteration 2: \n",
      "\t{'target': 0.9385964912280702, 'params': {'max_depth': 10.733779454085566, 'min_samples_split': 0.17387087581503824}}\n",
      "Iteration 3: \n",
      "\t{'target': 0.9210526315789473, 'params': {'max_depth': 10.931301056888355, 'min_samples_split': 0.3764485816344382}}\n",
      "Iteration 4: \n",
      "\t{'target': 0.8859649122807017, 'params': {'max_depth': 11.98383737115335, 'min_samples_split': 0.5310533872026856}}\n",
      "Iteration 5: \n",
      "\t{'target': 0.9385964912280702, 'params': {'max_depth': 15.0, 'min_samples_split': 0.1}}\n",
      "Iteration 6: \n",
      "\t{'target': 0.956140350877193, 'params': {'max_depth': 13.486125787854224, 'min_samples_split': 0.1}}\n",
      "Iteration 7: \n",
      "\t{'target': 0.631578947368421, 'params': {'max_depth': 15.0, 'min_samples_split': 0.9}}\n",
      "Iteration 8: \n",
      "\t{'target': 0.9649122807017544, 'params': {'max_depth': 12.387675095009024, 'min_samples_split': 0.1}}\n",
      "Iteration 9: \n",
      "\t{'target': 0.9473684210526315, 'params': {'max_depth': 11.563913637959395, 'min_samples_split': 0.1}}\n",
      "Iteration 10: \n",
      "\t{'target': 0.631578947368421, 'params': {'max_depth': 10.0, 'min_samples_split': 0.9}}\n",
      "Iteration 11: \n",
      "\t{'target': 0.3684210526315789, 'params': {'max_depth': 13.963527625015136, 'min_samples_split': 0.9}}\n",
      "Iteration 12: \n",
      "\t{'target': 0.9473684210526315, 'params': {'max_depth': 14.270188670229993, 'min_samples_split': 0.1}}\n",
      "Iteration 13: \n",
      "\t{'target': 0.631578947368421, 'params': {'max_depth': 11.238228197983954, 'min_samples_split': 0.9}}\n",
      "Iteration 14: \n",
      "\t{'target': 0.9473684210526315, 'params': {'max_depth': 10.0, 'min_samples_split': 0.1}}\n",
      "{'target': 0.9473684210526315, 'params': {'max_depth': 3.587023563268452, 'min_samples_split': 0.17387087581503824}}\n"
     ]
    }
   ],
   "source": [
    "from sklearn.ensemble import RandomForestClassifier\n",
    "\n",
    "\n",
    "\n",
    "def get_model2(max_depth,min_samples_split):\n",
    "    model = RandomForestClassifier(class_weight=\"balanced\", n_estimators=100, n_jobs=-1,max_depth = max_depth,\n",
    "                                   min_samples_split = min_samples_split )\n",
    "\n",
    "    # Train the model with the train dataset.\n",
    "    model.fit(X_resampled, Y_resampled)\n",
    "\n",
    "    # Evaluate the model with the eval dataset.\n",
    "    score = model.score(X_test,Y_test)\n",
    "    \n",
    "    # Return the accuracy.\n",
    "\n",
    "    return score\n",
    "\n",
    "verbose = 1\n",
    "fit_with_partial = partial(get_model2)\n",
    "\n",
    "# Bounded region of parameter space\n",
    "pbounds = {\"max_depth\": (10, 15), \"min_samples_split\": (0.1, 0.9)}\n",
    "\n",
    "optimizer2 = BayesianOptimization(\n",
    "    f=fit_with_partial,\n",
    "    pbounds=pbounds,\n",
    "    verbose=2,  # verbose = 1 prints only when a maximum is observed, verbose = 0 is silent\n",
    "    random_state=1,\n",
    ")\n",
    "\n",
    "optimizer2.maximize(n_iter=10)\n",
    "\n",
    "\n",
    "for i, res in enumerate(optimizer2.res):\n",
    "    print(\"Iteration {}: \\n\\t{}\".format(i, res))\n",
    "\n",
    "print(optimizer1.max)\n",
    "\n"
   ]
  },
  {
   "cell_type": "code",
   "execution_count": 20,
   "metadata": {},
   "outputs": [],
   "source": [
    "rf_model = RandomForestClassifier(class_weight=\"balanced\", n_estimators=100, n_jobs=-1,max_depth = 3.5,\n",
    "                                   min_samples_split = 0.17)\n"
   ]
  },
  {
   "cell_type": "code",
   "execution_count": 21,
   "metadata": {},
   "outputs": [
    {
     "data": {
      "text/plain": [
       "0.9385964912280702"
      ]
     },
     "execution_count": 21,
     "metadata": {},
     "output_type": "execute_result"
    }
   ],
   "source": [
    "rf_model.fit(X_resampled, Y_resampled)\n",
    "y_pred = rf_model.predict(X_test)\n",
    "accuracy_score(Y_test, y_pred)"
   ]
  },
  {
   "cell_type": "code",
   "execution_count": 22,
   "metadata": {},
   "outputs": [
    {
     "name": "stdout",
     "output_type": "stream",
     "text": [
      "              precision    recall  f1-score   support\n",
      "\n",
      "           0       0.99      0.92      0.95        72\n",
      "           1       0.87      0.98      0.92        42\n",
      "\n",
      "   micro avg       0.94      0.94      0.94       114\n",
      "   macro avg       0.93      0.95      0.94       114\n",
      "weighted avg       0.94      0.94      0.94       114\n",
      "\n"
     ]
    }
   ],
   "source": [
    "print(classification_report(Y_test, y_pred))"
   ]
  },
  {
   "cell_type": "code",
   "execution_count": 23,
   "metadata": {},
   "outputs": [
    {
     "name": "stdout",
     "output_type": "stream",
     "text": [
      "[[66  6]\n",
      " [ 1 41]]\n"
     ]
    }
   ],
   "source": [
    "print(confusion_matrix(Y_test, y_pred))"
   ]
  },
  {
   "cell_type": "code",
   "execution_count": 24,
   "metadata": {},
   "outputs": [
    {
     "data": {
      "text/plain": [
       "0.9385964912280702"
      ]
     },
     "execution_count": 24,
     "metadata": {},
     "output_type": "execute_result"
    }
   ],
   "source": [
    "rf_model.score(X_test, Y_test)"
   ]
  },
  {
   "cell_type": "code",
   "execution_count": 25,
   "metadata": {},
   "outputs": [
    {
     "data": {
      "text/plain": [
       "0.956140350877193"
      ]
     },
     "execution_count": 25,
     "metadata": {},
     "output_type": "execute_result"
    }
   ],
   "source": [
    "rf_model.score(X_resampled, Y_resampled)"
   ]
  },
  {
   "cell_type": "code",
   "execution_count": null,
   "metadata": {},
   "outputs": [],
   "source": []
  }
 ],
 "metadata": {
  "kernelspec": {
   "display_name": "Python 3",
   "language": "python",
   "name": "python3"
  },
  "language_info": {
   "codemirror_mode": {
    "name": "ipython",
    "version": 3
   },
   "file_extension": ".py",
   "mimetype": "text/x-python",
   "name": "python",
   "nbconvert_exporter": "python",
   "pygments_lexer": "ipython3",
   "version": "3.6.8"
  }
 },
 "nbformat": 4,
 "nbformat_minor": 2
}
